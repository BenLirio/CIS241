{
  "nbformat": 4,
  "nbformat_minor": 0,
  "metadata": {
    "colab": {
      "name": "HW_4.ipynb",
      "provenance": [],
      "authorship_tag": "ABX9TyNgWUnhiP/nY9Mzgu2XOV+A",
      "include_colab_link": true
    },
    "kernelspec": {
      "name": "python3",
      "display_name": "Python 3"
    }
  },
  "cells": [
    {
      "cell_type": "markdown",
      "metadata": {
        "id": "view-in-github",
        "colab_type": "text"
      },
      "source": [
        "<a href=\"https://colab.research.google.com/github/BenLirio/CIS241/blob/master/HW_4.ipynb\" target=\"_parent\"><img src=\"https://colab.research.google.com/assets/colab-badge.svg\" alt=\"Open In Colab\"/></a>"
      ]
    },
    {
      "cell_type": "code",
      "metadata": {
        "id": "WaJHy0IdTEaa",
        "colab_type": "code",
        "colab": {}
      },
      "source": [
        "import numpy as np"
      ],
      "execution_count": 3,
      "outputs": []
    },
    {
      "cell_type": "code",
      "metadata": {
        "id": "VxPKeE5mTHwj",
        "colab_type": "code",
        "colab": {}
      },
      "source": [
        "class Queue():\n",
        "  \"\"\"\n",
        "  Que implementation\n",
        "  First In First Out\n",
        "  \"\"\"\n",
        "  def __init__(self):\n",
        "    self.data = []\n",
        "\n",
        "  def enqueue(self, val):\n",
        "    self.data.append(val)\n",
        "    print(\"\")\n",
        "    print(\"Enqueued:\", val)\n",
        "    print(\"Stack:\", self.data)\n",
        "\n",
        "  def dequeue(self):\n",
        "    val = self.data[0]\n",
        "    self.data = self.data[1:]\n",
        "    print(\"\")\n",
        "    print(\"Dequeued:\", val)\n",
        "    print(\"Stack:\", self.data)\n",
        "    return val\n",
        "\n",
        "  def __str__(self):\n",
        "    return str(self.data)\n",
        "\n",
        "class Stack():\n",
        "  \"\"\"\n",
        "  Stack Implementation\n",
        "  Last In First Out\n",
        "  \"\"\"\n",
        "  def __init__(self):\n",
        "    self.data = []\n",
        "\n",
        "  def push(self, val):\n",
        "    self.data.append(val)\n",
        "    print(\"\")\n",
        "    print(\"Pushed:\", val)\n",
        "    print(\"Stack:\", self)\n",
        "\n",
        "  def pop(self):\n",
        "    val = self.data.pop()\n",
        "    print(\"\")\n",
        "    print(\"Poped:\", val)\n",
        "    print(\"Stack:\", self)\n",
        "    return val\n",
        "    \n",
        "  def __str__(self):\n",
        "    return str(self.data)\n"
      ],
      "execution_count": 4,
      "outputs": []
    },
    {
      "cell_type": "code",
      "metadata": {
        "id": "ljrF4iN_VKsZ",
        "colab_type": "code",
        "colab": {
          "base_uri": "https://localhost:8080/",
          "height": 527
        },
        "outputId": "fba3fe9a-37e8-47df-da55-6dcb395ea30d"
      },
      "source": [
        "stack = Stack()\n",
        "for i in range(5):\n",
        "  stack.push(i)\n",
        "for i in range(5):\n",
        "  stack.pop()"
      ],
      "execution_count": 5,
      "outputs": [
        {
          "output_type": "stream",
          "text": [
            "\n",
            "Pushed: 0\n",
            "Stack: [0]\n",
            "\n",
            "Pushed: 1\n",
            "Stack: [0, 1]\n",
            "\n",
            "Pushed: 2\n",
            "Stack: [0, 1, 2]\n",
            "\n",
            "Pushed: 3\n",
            "Stack: [0, 1, 2, 3]\n",
            "\n",
            "Pushed: 4\n",
            "Stack: [0, 1, 2, 3, 4]\n",
            "\n",
            "Poped: 4\n",
            "Stack: [0, 1, 2, 3]\n",
            "\n",
            "Poped: 3\n",
            "Stack: [0, 1, 2]\n",
            "\n",
            "Poped: 2\n",
            "Stack: [0, 1]\n",
            "\n",
            "Poped: 1\n",
            "Stack: [0]\n",
            "\n",
            "Poped: 0\n",
            "Stack: []\n"
          ],
          "name": "stdout"
        }
      ]
    },
    {
      "cell_type": "code",
      "metadata": {
        "id": "Sgo7XHKwXgQG",
        "colab_type": "code",
        "colab": {
          "base_uri": "https://localhost:8080/",
          "height": 527
        },
        "outputId": "7a752bb7-39c0-4222-9947-88314a1fd604"
      },
      "source": [
        "queue = Queue()\n",
        "for i in range(5):\n",
        "  queue.enqueue(i)\n",
        "for i in range(5):\n",
        "  queue.dequeue()"
      ],
      "execution_count": 6,
      "outputs": [
        {
          "output_type": "stream",
          "text": [
            "\n",
            "Enqueued: 0\n",
            "Stack: [0]\n",
            "\n",
            "Enqueued: 1\n",
            "Stack: [0, 1]\n",
            "\n",
            "Enqueued: 2\n",
            "Stack: [0, 1, 2]\n",
            "\n",
            "Enqueued: 3\n",
            "Stack: [0, 1, 2, 3]\n",
            "\n",
            "Enqueued: 4\n",
            "Stack: [0, 1, 2, 3, 4]\n",
            "\n",
            "Dequeued: 0\n",
            "Stack: [1, 2, 3, 4]\n",
            "\n",
            "Dequeued: 1\n",
            "Stack: [2, 3, 4]\n",
            "\n",
            "Dequeued: 2\n",
            "Stack: [3, 4]\n",
            "\n",
            "Dequeued: 3\n",
            "Stack: [4]\n",
            "\n",
            "Dequeued: 4\n",
            "Stack: []\n"
          ],
          "name": "stdout"
        }
      ]
    }
  ]
}